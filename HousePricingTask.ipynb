{
 "cells": [
  {
   "cell_type": "markdown",
   "id": "06254c06",
   "metadata": {},
   "source": [
    "# Housing Prices Prediction - Regression Problem"
   ]
  },
  {
   "cell_type": "markdown",
   "id": "74b98396",
   "metadata": {},
   "source": [
    "# Import Libraries"
   ]
  },
  {
   "cell_type": "code",
   "execution_count": 1,
   "id": "b3fffb92",
   "metadata": {},
   "outputs": [],
   "source": [
    "import numpy as np\n",
    "import pandas as pd \n",
    "\n",
    "import seaborn as sns\n",
    "import matplotlib.pyplot as plt\n",
    "import plotly.express as px\n",
    "\n",
    "from sklearn.preprocessing import LabelEncoder,StandardScaler,OrdinalEncoder"
   ]
  },
  {
   "cell_type": "markdown",
   "id": "276e2bac",
   "metadata": {},
   "source": [
    "# Loading Data"
   ]
  },
  {
   "cell_type": "code",
   "execution_count": null,
   "id": "93001d49",
   "metadata": {},
   "outputs": [],
   "source": [
    "plt.style.use(\"ggplot\")\n",
    "data=pd.read_csv('Housing.csv')\n",
    "data=pd.DataFrame(data)\n",
    "data"
   ]
  },
  {
   "cell_type": "markdown",
   "id": "3cc35f8e",
   "metadata": {},
   "source": [
    "# EDA -> Exploratory Data Analysis"
   ]
  },
  {
   "cell_type": "code",
   "execution_count": null,
   "id": "1afdaa16",
   "metadata": {},
   "outputs": [],
   "source": [
    "data.info()"
   ]
  },
  {
   "cell_type": "code",
   "execution_count": null,
   "id": "bca9a4e0",
   "metadata": {},
   "outputs": [],
   "source": [
    "data.describe()"
   ]
  },
  {
   "cell_type": "code",
   "execution_count": null,
   "id": "a8a601c2",
   "metadata": {},
   "outputs": [],
   "source": [
    "data.nunique().sort_values()"
   ]
  },
  {
   "cell_type": "code",
   "execution_count": null,
   "id": "95b0cf08",
   "metadata": {},
   "outputs": [],
   "source": [
    "data.duplicated().sum()"
   ]
  },
  {
   "cell_type": "markdown",
   "id": "d1c138bb",
   "metadata": {},
   "source": [
    "# Data Preprocessing"
   ]
  },
  {
   "cell_type": "markdown",
   "id": "c7f3383a",
   "metadata": {},
   "source": [
    "## Delete Outliers"
   ]
  },
  {
   "cell_type": "code",
   "execution_count": null,
   "id": "80e4716e",
   "metadata": {},
   "outputs": [],
   "source": [
    "sns.boxplot(x=data['price'])\n",
    "plt.show()"
   ]
  },
  {
   "cell_type": "code",
   "execution_count": null,
   "id": "17836cc4",
   "metadata": {},
   "outputs": [],
   "source": [
    "sns.boxplot(x=data['area'])\n",
    "plt.show()"
   ]
  },
  {
   "cell_type": "code",
   "execution_count": null,
   "id": "22c57578",
   "metadata": {},
   "outputs": [],
   "source": [
    "sns.histplot(x=data['area'])\n",
    "plt.show()"
   ]
  },
  {
   "cell_type": "code",
   "execution_count": null,
   "id": "7a6e14a3",
   "metadata": {},
   "outputs": [],
   "source": [
    "sns.histplot(x=data['price'])\n",
    "plt.show()"
   ]
  },
  {
   "cell_type": "code",
   "execution_count": 11,
   "id": "fed510a9",
   "metadata": {},
   "outputs": [],
   "source": [
    "Q1 = data['area'].quantile(0.25)\n",
    "Q3 = data['area'].quantile(0.75)\n",
    "IQR = Q3 - Q1\n",
    "lower = Q1 - 1.5*IQR\n",
    "upper = Q3 + 1.5*IQR\n",
    "data = data[(data['area'] >= lower) & (data['area'] <= upper)]"
   ]
  },
  {
   "cell_type": "code",
   "execution_count": 12,
   "id": "93a3879f",
   "metadata": {},
   "outputs": [],
   "source": [
    "Q1 = data['price'].quantile(0.25)\n",
    "Q3 = data['price'].quantile(0.75)\n",
    "IQR = Q3 - Q1\n",
    "lower = Q1 - 1.5*IQR\n",
    "upper = Q3 + 1.5*IQR\n",
    "data = data[(data['price'] >= lower) & (data['price'] <= upper)]"
   ]
  },
  {
   "cell_type": "markdown",
   "id": "c266af66",
   "metadata": {},
   "source": [
    "## Encoding Categorical columns"
   ]
  },
  {
   "cell_type": "code",
   "execution_count": null,
   "id": "64ef483b",
   "metadata": {},
   "outputs": [],
   "source": [
    "# mainroad\tguestroom\tbasement\thotwaterheating\tairconditioning\tprefarea\n",
    "cols=data.loc[:,['mainroad','guestroom','basement','hotwaterheating','airconditioning','prefarea']]\n",
    "encoder=LabelEncoder()\n",
    "for col in cols:\n",
    "    data[col]=encoder.fit_transform(data[col])\n",
    "data"
   ]
  },
  {
   "cell_type": "code",
   "execution_count": null,
   "id": "aefff7a3",
   "metadata": {},
   "outputs": [],
   "source": [
    "encoder=OrdinalEncoder(categories=[['unfurnished','semi-furnished','furnished']])\n",
    "data['furnishingstatus']=encoder.fit_transform(data[['furnishingstatus']])\n",
    "data"
   ]
  },
  {
   "cell_type": "markdown",
   "id": "c741ae2a",
   "metadata": {},
   "source": [
    "# Feature Engineering"
   ]
  },
  {
   "cell_type": "code",
   "execution_count": 15,
   "id": "cee31167",
   "metadata": {},
   "outputs": [],
   "source": [
    "# if 'area' in data.columns and 'price' in data.columns:\n",
    "#     data['price_per_area'] = data['price'] / data['area']"
   ]
  },
  {
   "cell_type": "code",
   "execution_count": 16,
   "id": "62508485",
   "metadata": {},
   "outputs": [],
   "source": [
    "if 'bedrooms' in data.columns and 'bathrooms' in data.columns:\n",
    "    data['room_ratio'] = data['bedrooms'] / (data['bathrooms'] + 1e-6)\n",
    "    data['total_rooms'] = data['bedrooms'] + data['bathrooms']"
   ]
  },
  {
   "cell_type": "code",
   "execution_count": null,
   "id": "52cf91d5",
   "metadata": {},
   "outputs": [],
   "source": [
    "features = [\"mainroad\",\"guestroom\",\"basement\",\"hotwaterheating\",\"airconditioning\",\"prefarea\"]\n",
    "data['num_features']=data[features].sum(axis=1)\n",
    "data"
   ]
  },
  {
   "cell_type": "markdown",
   "id": "3f8b462b",
   "metadata": {},
   "source": [
    "#  Data Visualization"
   ]
  },
  {
   "cell_type": "code",
   "execution_count": null,
   "id": "b3d0eb66",
   "metadata": {},
   "outputs": [],
   "source": [
    "sns.distplot(x=data['area'])\n",
    "plt.show()"
   ]
  },
  {
   "cell_type": "code",
   "execution_count": null,
   "id": "2c43c7c6",
   "metadata": {},
   "outputs": [],
   "source": [
    "sns.distplot(x=data['price'])\n",
    "plt.show()"
   ]
  },
  {
   "cell_type": "code",
   "execution_count": null,
   "id": "adec051f",
   "metadata": {},
   "outputs": [],
   "source": [
    "plt.figure(figsize=(6,4))\n",
    "sns.barplot(x=\"mainroad\", y=\"price\", data=data)\n",
    "plt.title(\" Price by Main Road\")\n",
    "plt.show()"
   ]
  },
  {
   "cell_type": "code",
   "execution_count": null,
   "id": "1702bf61",
   "metadata": {},
   "outputs": [],
   "source": [
    "plt.figure(figsize=(10,10))\n",
    "sns.heatmap(data.corr(),annot=True)\n",
    "plt.show()"
   ]
  },
  {
   "cell_type": "code",
   "execution_count": null,
   "id": "d16c6011",
   "metadata": {},
   "outputs": [],
   "source": [
    "plt.scatter(x=data['area'],y=data['price'])\n",
    "plt.show()"
   ]
  },
  {
   "cell_type": "markdown",
   "id": "5df4fbf9",
   "metadata": {},
   "source": [
    "# Model Building and Evaluation"
   ]
  },
  {
   "cell_type": "markdown",
   "id": "423bcb13",
   "metadata": {},
   "source": [
    "## Import Libraries"
   ]
  },
  {
   "cell_type": "code",
   "execution_count": 23,
   "id": "498a2b9a",
   "metadata": {},
   "outputs": [],
   "source": [
    "from sklearn.model_selection import train_test_split\n",
    "\n",
    "from sklearn.linear_model import LinearRegression\n",
    "from sklearn.linear_model import Ridge\n",
    "from sklearn.linear_model import Lasso\n",
    "from sklearn.tree import DecisionTreeRegressor\n",
    "\n",
    "from sklearn.metrics import mean_squared_error\n",
    "from sklearn.metrics import  r2_score"
   ]
  },
  {
   "cell_type": "markdown",
   "id": "6fc7f9dc",
   "metadata": {},
   "source": [
    "## Split the data (Features, Target)"
   ]
  },
  {
   "cell_type": "code",
   "execution_count": 24,
   "id": "18a6abd5",
   "metadata": {},
   "outputs": [],
   "source": [
    "X = data.drop('price',axis=1)\n",
    "y = data['price']"
   ]
  },
  {
   "cell_type": "markdown",
   "id": "ed6b07cb",
   "metadata": {},
   "source": [
    "## Split the data (Train, Validation_test, Test)"
   ]
  },
  {
   "cell_type": "code",
   "execution_count": 25,
   "id": "113134bb",
   "metadata": {},
   "outputs": [],
   "source": [
    "X_train, X_temp, y_train, y_temp = train_test_split(X,y,test_size=0.2, random_state=42, shuffle=True)\n",
    "X_val, X_test, y_val, y_test = train_test_split(X_temp,y_temp,test_size=0.5, random_state=42, shuffle=True)"
   ]
  },
  {
   "cell_type": "markdown",
   "id": "6cbff6d3",
   "metadata": {},
   "source": [
    "## Features Scaling"
   ]
  },
  {
   "cell_type": "code",
   "execution_count": 26,
   "id": "6f3d6ab6",
   "metadata": {},
   "outputs": [],
   "source": [
    "scaler=StandardScaler()\n",
    "\n",
    "X_train_scaled = scaler.fit_transform(X_train)\n",
    "X_val_scaled = scaler.transform(X_val)\n",
    "X_test_scaled = scaler.transform(X_test)"
   ]
  },
  {
   "cell_type": "markdown",
   "id": "46c364d4",
   "metadata": {},
   "source": [
    "## Linear Regression Model"
   ]
  },
  {
   "cell_type": "markdown",
   "id": "f7425cba",
   "metadata": {},
   "source": [
    "### Model Training"
   ]
  },
  {
   "cell_type": "code",
   "execution_count": 27,
   "id": "85bf3f95",
   "metadata": {},
   "outputs": [],
   "source": [
    "model=LinearRegression()\n",
    "\n",
    "model.fit(X_train_scaled,y_train)\n",
    "\n",
    "y_predict_train=model.predict(X_train_scaled)\n",
    "y_predict_val=model.predict(X_val_scaled)\n",
    "y_predict_test=model.predict(X_test_scaled)"
   ]
  },
  {
   "cell_type": "markdown",
   "id": "d5ca0c79",
   "metadata": {},
   "source": [
    "### Model Evaluation"
   ]
  },
  {
   "cell_type": "code",
   "execution_count": null,
   "id": "0b457fa0",
   "metadata": {},
   "outputs": [],
   "source": [
    "rmse_train=np.sqrt(mean_squared_error(y_train,y_predict_train))\n",
    "rmse_val=np.sqrt(mean_squared_error(y_val,y_predict_val))\n",
    "rmse_test=np.sqrt(mean_squared_error(y_test,y_predict_test))\n",
    "\n",
    "print(\"test:\",rmse_test)\n",
    "print(\"validation:\",rmse_val)\n",
    "print(\"train:\",rmse_train)"
   ]
  },
  {
   "cell_type": "code",
   "execution_count": null,
   "id": "56ba2dcb",
   "metadata": {},
   "outputs": [],
   "source": [
    "train_r2_linear = r2_score(y_train, y_predict_train)\n",
    "val_r2_linear = r2_score(y_val, y_predict_val)\n",
    "test_r2_linear = r2_score(y_test, y_predict_test)\n",
    "\n",
    "print(f\"Training R²: {train_r2_linear:.2f}\")\n",
    "print(f\"Validation R²: {val_r2_linear:.2f}\")\n",
    "print(f\"Test R²: {test_r2_linear:.2f}\")"
   ]
  },
  {
   "cell_type": "markdown",
   "id": "986ab38b",
   "metadata": {},
   "source": [
    "## Lasso Regression (L1 Regularization)"
   ]
  },
  {
   "cell_type": "markdown",
   "id": "40ac9f2b",
   "metadata": {},
   "source": [
    "### Model Training"
   ]
  },
  {
   "cell_type": "code",
   "execution_count": null,
   "id": "35c88115",
   "metadata": {},
   "outputs": [],
   "source": [
    "lasso=Lasso(alpha=0.01, random_state=42)\n",
    "\n",
    "lasso.fit(X_train_scaled,y_train)\n",
    "\n",
    "ly_predict_train=lasso.predict(X_train_scaled)\n",
    "ly_predict_val=lasso.predict(X_val_scaled)\n",
    "ly_predict_test=lasso.predict(X_test_scaled)"
   ]
  },
  {
   "cell_type": "markdown",
   "id": "ab155eb4",
   "metadata": {},
   "source": [
    "### Model Evaluation"
   ]
  },
  {
   "cell_type": "code",
   "execution_count": null,
   "id": "8b33829a",
   "metadata": {},
   "outputs": [],
   "source": [
    "rmse_lasso_train=np.sqrt(mean_squared_error(y_train,ly_predict_train))\n",
    "rmse_lasso_val=np.sqrt(mean_squared_error(y_val,ly_predict_val))\n",
    "rmse_lasso_test=np.sqrt(mean_squared_error(y_test,ly_predict_test))\n",
    "\n",
    "print(\"train:\",rmse_lasso_train)\n",
    "print(\"validation:\",rmse_lasso_val)\n",
    "print(\"test:\",rmse_lasso_test)"
   ]
  },
  {
   "cell_type": "code",
   "execution_count": null,
   "id": "74e3220a",
   "metadata": {},
   "outputs": [],
   "source": [
    "train_r2_lasso = r2_score(y_train, ly_predict_train)\n",
    "val_r2_lasso = r2_score(y_val, ly_predict_val)\n",
    "test_r2_lasso = r2_score(y_test, ly_predict_test)\n",
    "\n",
    "print(f\"Lasso (L1) Training R²: {train_r2_lasso:.2f}\")\n",
    "print(f\"Lasso (L1) Validation R²: {val_r2_lasso:.2f}\")\n",
    "print(f\"Lasso (L1) Test R²: {test_r2_lasso:.2f}\")"
   ]
  },
  {
   "cell_type": "markdown",
   "id": "ba935050",
   "metadata": {},
   "source": [
    "## Ridge Regression (L2 Regularization)"
   ]
  },
  {
   "cell_type": "markdown",
   "id": "67eda428",
   "metadata": {},
   "source": [
    "### Model Training"
   ]
  },
  {
   "cell_type": "code",
   "execution_count": 33,
   "id": "2e661990",
   "metadata": {},
   "outputs": [],
   "source": [
    "ridge=Ridge(alpha=0.01,random_state=42)\n",
    "\n",
    "ridge.fit(X_train_scaled,y_train)\n",
    "\n",
    "ry_predict_train=ridge.predict(X_train_scaled)\n",
    "ry_predict_val=ridge.predict(X_val_scaled)\n",
    "ry_predict_test=ridge.predict(X_test_scaled)\n"
   ]
  },
  {
   "cell_type": "markdown",
   "id": "9186e6ed",
   "metadata": {},
   "source": [
    "### Model Evaluation"
   ]
  },
  {
   "cell_type": "code",
   "execution_count": null,
   "id": "e975c08a",
   "metadata": {},
   "outputs": [],
   "source": [
    "rmse_ridge_train=np.sqrt(mean_squared_error(y_train,ry_predict_train))\n",
    "rmse_ridge_val=np.sqrt(mean_squared_error(y_val,ry_predict_val))\n",
    "rmse_ridge_test=np.sqrt(mean_squared_error(y_test,ry_predict_test))\n",
    "\n",
    "print(\"train:\",rmse_ridge_train)\n",
    "print(\"validation:\",rmse_ridge_val)\n",
    "print(\"test:\",rmse_ridge_test)"
   ]
  },
  {
   "cell_type": "code",
   "execution_count": null,
   "id": "3baa7bad",
   "metadata": {},
   "outputs": [],
   "source": [
    "train_r2_ridge = r2_score(y_train, ry_predict_train)\n",
    "val_r2_ridge = r2_score(y_val, ry_predict_val)\n",
    "test_r2_ridge = r2_score(y_test, ry_predict_test)\n",
    "\n",
    "print(f\"Ridge Training R²: {train_r2_ridge:.2f}\")\n",
    "print(f\"Ridge Validation R²: {val_r2_ridge:.2f}\")\n",
    "print(f\"Ridge Test R²: {test_r2_ridge:.2f}\")"
   ]
  },
  {
   "cell_type": "markdown",
   "id": "6b917d55",
   "metadata": {},
   "source": [
    "## Decision Tree Regressor"
   ]
  },
  {
   "cell_type": "markdown",
   "id": "452c67f6",
   "metadata": {},
   "source": [
    "### Model Training"
   ]
  },
  {
   "cell_type": "code",
   "execution_count": 36,
   "id": "dc9ef84d",
   "metadata": {},
   "outputs": [],
   "source": [
    "tree=DecisionTreeRegressor(random_state=42,max_depth=3)\n",
    "\n",
    "tree.fit(X_train_scaled,y_train)\n",
    "\n",
    "y_train_tree_pred=tree.predict(X_train_scaled)\n",
    "y_val_tree_pred=tree.predict(X_val_scaled)\n",
    "y_test_tree_pred=tree.predict(X_test_scaled)"
   ]
  },
  {
   "cell_type": "markdown",
   "id": "6873768b",
   "metadata": {},
   "source": [
    "### Model Evaluation"
   ]
  },
  {
   "cell_type": "code",
   "execution_count": null,
   "id": "bfcece57",
   "metadata": {},
   "outputs": [],
   "source": [
    "rmse_tree_test=np.sqrt(mean_squared_error(y_test,y_test_tree_pred))\n",
    "rmse_tree_val=np.sqrt(mean_squared_error(y_val,y_val_tree_pred))\n",
    "rmse_tree_train=np.sqrt(mean_squared_error(y_train,y_train_tree_pred))\n",
    "\n",
    "print(\"train:\",rmse_tree_train)\n",
    "print(\"validation:\",rmse_tree_val)\n",
    "print(\"test:\",rmse_tree_test)"
   ]
  },
  {
   "cell_type": "code",
   "execution_count": null,
   "id": "045be55e",
   "metadata": {},
   "outputs": [],
   "source": [
    "r2_train_tree = r2_score(y_train, y_train_tree_pred)\n",
    "r2_val_tree = r2_score(y_val, y_val_tree_pred)\n",
    "r2_test_tree = r2_score(y_test, y_test_tree_pred)\n",
    "\n",
    "print(f\"Tree Training R²: {r2_train_tree:.2f}\")\n",
    "print(f\"Tree validation R²: {r2_val_tree:.2f}\")\n",
    "print(f\"Tree Test R²: {r2_test_tree:.2f}\")"
   ]
  }
 ],
 "metadata": {
  "kernelspec": {
   "display_name": "Python 3",
   "language": "python",
   "name": "python3"
  },
  "language_info": {
   "codemirror_mode": {
    "name": "ipython",
    "version": 3
   },
   "file_extension": ".py",
   "mimetype": "text/x-python",
   "name": "python",
   "nbconvert_exporter": "python",
   "pygments_lexer": "ipython3",
   "version": "3.13.5"
  }
 },
 "nbformat": 4,
 "nbformat_minor": 5
}
